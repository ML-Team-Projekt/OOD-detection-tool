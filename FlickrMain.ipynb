{
 "cells": [
  {
   "cell_type": "code",
   "execution_count": null,
   "id": "a4fd0216",
   "metadata": {},
   "outputs": [],
   "source": [
    "import os\n",
    "from FlickrAccess import getUrls\n",
    "from Downloader import downloadImages\n",
    "from FlickrClassifier import createFlickrData"
   ]
  },
  {
   "cell_type": "code",
   "execution_count": null,
   "id": "5bc3108c",
   "metadata": {},
   "outputs": [],
   "source": [
    "'''\n",
    "Define the tags and the amount of pictures per tag\n",
    "'''\n",
    "allTags = ['donut', 'labrador', 'shuttlecock', 'hammerhead']\n",
    "imagesPerTag = 10"
   ]
  },
  {
   "cell_type": "code",
   "execution_count": null,
   "id": "bda828c1",
   "metadata": {},
   "outputs": [],
   "source": [
    "'''\n",
    "Downloads the images and amount defined above from the FlickrApi\n",
    "'''\n",
    "def download():\n",
    "    for tag in allTags:\n",
    "\n",
    "        print('Getting urls for', tag)\n",
    "        urls = getUrls(tag, imagesPerTag)\n",
    "        \n",
    "        print('Downloading images for', tag)\n",
    "        path = os.path.join('flickr-data', tag)\n",
    "\n",
    "        downloadImages(urls, path)\n"
   ]
  },
  {
   "cell_type": "code",
   "execution_count": null,
   "id": "bcbfd637",
   "metadata": {},
   "outputs": [],
   "source": [
    "'''\n",
    "Execute in order to start the download\n",
    "'''\n",
    "download()\n",
    "print('Done')"
   ]
  },
  {
   "cell_type": "code",
   "execution_count": null,
   "id": "9e864537",
   "metadata": {},
   "outputs": [],
   "source": [
    "'''\n",
    "Execute in order to classify every image in flickr-data. This might take a while.\n",
    "'''\n",
    "createFlickrData()"
   ]
  }
 ],
 "metadata": {
  "kernelspec": {
   "display_name": "Python 3 (ipykernel)",
   "language": "python",
   "name": "python3"
  },
  "language_info": {
   "codemirror_mode": {
    "name": "ipython",
    "version": 3
   },
   "file_extension": ".py",
   "mimetype": "text/x-python",
   "name": "python",
   "nbconvert_exporter": "python",
   "pygments_lexer": "ipython3",
   "version": "3.10.11"
  }
 },
 "nbformat": 4,
 "nbformat_minor": 5
}
