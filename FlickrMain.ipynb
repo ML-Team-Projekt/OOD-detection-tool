{
 "cells": [
  {
   "cell_type": "code",
   "execution_count": 1,
   "id": "daec08ca",
   "metadata": {},
   "outputs": [
    {
     "ename": "ModuleNotFoundError",
     "evalue": "No module named 'FlickrAccess'",
     "output_type": "error",
     "traceback": [
      "\u001b[0;31m---------------------------------------------------------------------------\u001b[0m",
      "\u001b[0;31mModuleNotFoundError\u001b[0m                       Traceback (most recent call last)",
      "Cell \u001b[0;32mIn[1], line 2\u001b[0m\n\u001b[1;32m      1\u001b[0m \u001b[38;5;28;01mimport\u001b[39;00m \u001b[38;5;21;01mos\u001b[39;00m\n\u001b[0;32m----> 2\u001b[0m \u001b[38;5;28;01mfrom\u001b[39;00m \u001b[38;5;21;01mFlickrAccess\u001b[39;00m \u001b[38;5;28;01mimport\u001b[39;00m getUrls\n\u001b[1;32m      3\u001b[0m \u001b[38;5;28;01mfrom\u001b[39;00m \u001b[38;5;21;01mDownloader\u001b[39;00m \u001b[38;5;28;01mimport\u001b[39;00m downloadImages\n",
      "\u001b[0;31mModuleNotFoundError\u001b[0m: No module named 'FlickrAccess'"
     ]
    }
   ],
   "source": [
    "import os\n",
    "from FlickrAccess import getUrls\n",
    "from Downloader import downloadImages\n",
    "\n"
   ]
  },
  {
   "cell_type": "code",
   "execution_count": null,
   "id": "4049cc1a",
   "metadata": {},
   "outputs": [],
   "source": [
    "allTags = ['hammerhead shark', 'hen', 'mansion']\n",
    "imagesPerTag = 10"
   ]
  },
  {
   "cell_type": "code",
   "execution_count": null,
   "id": "f5676f4a",
   "metadata": {},
   "outputs": [],
   "source": [
    "def download():\n",
    "    for tag in allTags:\n",
    "\n",
    "        print('Getting urls for', tag)\n",
    "        urls = get_urls(tag, imagesPerTag)\n",
    "        \n",
    "        print('Downloading images for', tag)\n",
    "        path = os.path.join('flickr-data', tag)\n",
    "\n",
    "        download_images(urls, path)"
   ]
  },
  {
   "cell_type": "code",
   "execution_count": null,
   "id": "b91f0315",
   "metadata": {},
   "outputs": [],
   "source": [
    "download()\n",
    "print('Done')"
   ]
  }
 ],
 "metadata": {
  "kernelspec": {
   "display_name": "Python 3 (ipykernel)",
   "language": "python",
   "name": "python3"
  },
  "language_info": {
   "codemirror_mode": {
    "name": "ipython",
    "version": 3
   },
   "file_extension": ".py",
   "mimetype": "text/x-python",
   "name": "python",
   "nbconvert_exporter": "python",
   "pygments_lexer": "ipython3",
   "version": "3.10.11"
  }
 },
 "nbformat": 4,
 "nbformat_minor": 5
}
