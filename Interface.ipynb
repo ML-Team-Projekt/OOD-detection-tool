{
 "cells": [
  {
   "cell_type": "code",
   "execution_count": 2,
   "id": "1868a499",
   "metadata": {
    "pycharm": {
     "name": "#%%\n"
    }
   },
   "outputs": [],
   "source": [
    "#!/usr/bin/env python3\n",
    "# coding: utf-8\n",
    "\n",
    "import sys \n",
    "sys.path.insert(0, '/home/lilly/miniconda3/lib/python3.10/site-packages')\n",
    "import torch\n",
    "import torchvision\n",
    "from torch.utils.data import Dataset\n",
    "import torchvision.transforms.functional as fn\n",
    "import torchvision.transforms as T\n",
    "import matplotlib.pyplot as plt\n",
    "from utilities import createAnnotation\n",
    "from model_loader import get_new_model\n",
    "import pandas as pd\n",
    "from IPython.display import display\n",
    "from PIL import Image \n",
    "import random\n",
    "import numpy as np\n",
    "import tqdm as notebook_tqdm\n",
    "import gradio as gr\n",
    "from Dataset import *\n",
    "import json\n",
    "import class_katalog"
   ]
  },
  {
   "cell_type": "code",
   "execution_count": 3,
   "id": "76f0417e",
   "metadata": {
    "pycharm": {
     "name": "#%%\n"
    }
   },
   "outputs": [],
   "source": [
    "# returns just its input\n",
    "# needed for some outputs\n",
    "def self(item):\n",
    "    return item"
   ]
  },
  {
   "cell_type": "code",
   "execution_count": 4,
   "id": "9b6dd0e8",
   "metadata": {
    "pycharm": {
     "name": "#%%\n"
    }
   },
   "outputs": [],
   "source": [
    "#Here we configure the Datacollector, which contains all informations of once Usercall\n",
    "def addUserId(UserId):\n",
    "    dataCollector['UserId'] = UserId\n",
    "\n",
    "def addBatchsize(batchsize):\n",
    "    dataCollector['batchsize'] = int(batchsize)\n",
    "\n",
    "def addImg(imgIds):\n",
    "    assert dataCollector['batchsize'] == len(imgIds)\n",
    "    Samples = []\n",
    "    for i in range(dataCollector['batchsize']):\n",
    "        Samples.append({'ImgId': imgIds[i], 'topTen': []})\n",
    "    dataCollector['Imgs'] = Samples\n",
    "\n",
    "def addTopTen(topTenList):\n",
    "    assert len(topTenList) == len(dataCollector['Imgs'])\n",
    "    for i in range(len(topTenList)):\n",
    "        dataCollector['Imgs'][i]['topTen'] = topTenList[i]\n",
    "\n",
    "def addDecesion(decesion):\n",
    "    global decesions\n",
    "    decesions.append(decesion)\n",
    "    if len(decesions) == dataCollector['batchsize']:\n",
    "        assert dataCollector['batchsize'] == len(dataCollector['Imgs'])\n",
    "        for i in range(len(dataCollector['Imgs'])):\n",
    "            dataCollector['Imgs'][i]['decesion'] = decesions[i]\n",
    "        decesions = []\n",
    "    \n",
    "def addSource(sourceList):\n",
    "    assert len(sourceList) == len(dataCollector['Imgs'])\n",
    "    for i in range(len(dataCollector['Imgs'])):\n",
    "        dataCollector['Imgs'][i]['source'] = sourceList[i]\n",
    "\n",
    "def addLabel(labelList):\n",
    "    assert len(labelList) == len(dataCollector['Imgs'])\n",
    "    for i in range(len(dataCollector['Imgs'])):\n",
    "        dataCollector['Imgs'][i]['label'] = labelList[i]\n",
    "\n",
    "def addModel(model):\n",
    "    dataCollector['model'] = model\n",
    "\n",
    "#create an object for a Usercall, in case that we want to insert a new image into our database\n",
    "def creatJsonObject(img):\n",
    "    topTen = img['topTen']\n",
    "    object = {\n",
    "                'ImgID' : img['ImgId'],\n",
    "                'source' : img['source'],\n",
    "                'label': img['label'],\n",
    "                'topTen': {dataCollector['model']: topTen},\n",
    "                'UserCall': [\n",
    "                    {\n",
    "                        'userId' : dataCollector['UserId'],\n",
    "                        'model' : dataCollector['model'],\n",
    "                        'decesion': img['decesion']\n",
    "                    }\n",
    "                ]\n",
    "            }\n",
    "\n",
    "    return object\n",
    "\n",
    "#update the Object of the image, which already exists in database.\n",
    "def updateObject(img):\n",
    "    for obj in data:\n",
    "        if obj['source'] == img['source']:\n",
    "            call = {\n",
    "                'userId' : dataCollector['UserId'],\n",
    "                'model' : dataCollector['model'],\n",
    "                'decesion': img['decesion']\n",
    "            }\n",
    "            obj['UserCall'].append(call)\n",
    "             #extend container of topTen if we call a new model for this image \n",
    "            key = dataCollector['model']\n",
    "            if key not in obj['topTen']:\n",
    "                obj['topTen'][key] = img['topTen']\n",
    "\n",
    "#update our database ,everytime a Usercall happens\n",
    "def updateData():\n",
    "    for img in dataCollector['imgs']:\n",
    "        if img['source'] not in imgSet:\n",
    "            obj = creatJsonObject(img)\n",
    "            data.append(obj)\n",
    "            imgSet.add(img['source'])\n",
    "        else:\n",
    "            updateObject(img)"
   ]
  },
  {
   "cell_type": "code",
   "execution_count": 38,
   "id": "a81e6546",
   "metadata": {
    "pycharm": {
     "name": "#%%\n"
    }
   },
   "outputs": [],
   "source": [
    "# returns the labels per image which have to be evaluated and the indices of the images\n",
    "def loadDataFromModel(batchSize):\n",
    "    batch, batch3dim, indexList, sourceList, labelList = createRandomBatch(batchSize)\n",
    "    global modelName\n",
    "    modelName = \"convnext_tiny\"\n",
    "    model = get_new_model(modelName, not_original=True)\n",
    "    if modelName == \"convnext_tiny\":\n",
    "        ckpt = torch.load('convnext_tiny_cvst_clean.pt', map_location='cpu')\n",
    "        ckpt = {k.replace('module.', ''): v for k, v in ckpt.items()}\n",
    "        model.load_state_dict(ckpt)\n",
    "    samples = feedModel(batch) \n",
    "    topTenList = findLabels(samples, 10)\n",
    "    labels = []\n",
    "    # just for test purpose\n",
    "    for i in range(0, batchSize):\n",
    "        labels.append(topTenList[i])\n",
    "\n",
    "    return labels, indexList, sourceList, topTenList, labelList\n",
    "\n"
   ]
  },
  {
   "cell_type": "code",
   "execution_count": 6,
   "id": "c2ab8df9",
   "metadata": {
    "pycharm": {
     "name": "#%%\n"
    }
   },
   "outputs": [],
   "source": [
    "# generates the whole evaluation output\n",
    "def generateEval(batchSize, uId):\n",
    "    batchSize = int(batchSize)\n",
    "    labels, indexList, sourceList, topTenList, labelList = loadDataFromModel(batchSize)\n",
    "    addImg(indexList)\n",
    "    addTopTen(topTenList)\n",
    "    addModel(modelName)\n",
    "    addSource(sourceList)\n",
    "    addLabel(labelList)\n",
    "    \n",
    "    global bSize\n",
    "    bSize = batchSize\n",
    "    global iList\n",
    "    iList = indexList\n",
    "    global allLabels\n",
    "    allLabels = labels\n",
    "    global loop\n",
    "    loop = 0\n",
    "\n",
    "    displayEval()"
   ]
  },
  {
   "cell_type": "code",
   "execution_count": 7,
   "id": "374fca47",
   "metadata": {
    "pycharm": {
     "name": "#%%\n"
    }
   },
   "outputs": [],
   "source": [
    "# user selected IID\n",
    "def selectIid():#userId, iList, allL, bSize, loop):\n",
    "  # update json\n",
    "    addDecesion('IID')\n",
    "  # display next eval  \n",
    "    global loop\n",
    "    global batchSize\n",
    "    if loop < (bSize-1):\n",
    "        loop = loop + 1\n",
    "        displayEval()\n",
    "    else: endEval()\n",
    "\n",
    "# user selected OOD    \n",
    "def selectOod():\n",
    "  # update json\n",
    "    addDecesion('OOD')\n",
    "  # display next eval  \n",
    "    global loop\n",
    "    global batchSize\n",
    "    if loop < (bSize-1):\n",
    "        loop = loop + 1\n",
    "        displayEval()\n",
    "    else: endEval()\n",
    "\n",
    "# user selected abstinent\n",
    "def selectAbstinent():\n",
    "  # update json\n",
    "    addDecesion('Abstinent')\n",
    "  # display next eval\n",
    "    global loop\n",
    "    global batchSize\n",
    "    if loop < (bSize-1):\n",
    "        loop = loop + 1\n",
    "        displayEval()\n",
    "    else: endEval()\n",
    "\n",
    "# shows an image, the labels and three buttons\n",
    "def displayEval():#indexList, allLabels, uId, batchSize, loop, labelList):\n",
    "    global loop\n",
    "    global iList\n",
    "    global allLabels\n",
    "    imgPath = imageDataset.__getitem__(iList[loop])[0]\n",
    "    labels = allLabels[loop]\n",
    "    with gr.Blocks() as demo:\n",
    "        gr.Markdown('''Please decide if the image is in 'independent identically distribution' (IID) or 'out of distribution' (OOD) related to the predicted labels of the model.\n",
    "        If your are not sure choose 'abstinent'. ''')\n",
    "        fn = self\n",
    "        inputs = gr.Image(imgPath)\n",
    "        outputs = None\n",
    "        gr.Markdown('''The top labels predicted by the model:''')\n",
    "        for i in range (0, len(labels)):\n",
    "            gr.Markdown(f'''{labels[i]}''')\n",
    "        with gr.Row():\n",
    "            iidBtn = gr.Button(\"IID\")\n",
    "            oodBtn = gr.Button(\"OOD\")\n",
    "            abstinentBtn = gr.Button(\"abstinent\")\n",
    "        iidBtn.click(fn=selectIid, inputs=None, outputs=None, api_name=\"IID\")\n",
    "        oodBtn.click(fn=selectOod, inputs=None, outputs=None, api_name=\"OOD\")\n",
    "        abstinentBtn.click(fn=selectAbstinent, inputs=None, outputs=None, api_name=\"abstinent\")\n",
    "    \n",
    "    demo.launch()"
   ]
  },
  {
   "cell_type": "code",
   "execution_count": 8,
   "id": "5a136385",
   "metadata": {
    "pycharm": {
     "name": "#%%\n"
    }
   },
   "outputs": [],
   "source": [
    "# first checks if userId exists\n",
    "# if not: redirects the user back to sing-in\n",
    "# if yes: asks for the amount of images the user want to evaluate \n",
    "def askAmount(uId):\n",
    "    uIdExists = False\n",
    "    for obj in emails_ids:\n",
    "        if obj['userId'] == uId:\n",
    "            uIdExists = True\n",
    "    if uIdExists == False:\n",
    "        with gr.Blocks() as demo:\n",
    "            gr.Markdown('''This userId isn´t registered. Please reconsider your input or sign in with your e-mail address.''')\n",
    "            backToSignInBtn = gr.Button(\"Back to sign in\")\n",
    "            backToSignInBtn.click(fn=generateSignIn, inputs=None, outputs=None, api_name=\"Back to sign in\") \n",
    "            \n",
    "        demo.launch()\n",
    "    else:        \n",
    "        with gr.Blocks() as demo:\n",
    "            batchSize = gr.Textbox(label=\"Please enter the amount of images you want to evaluate:\", placeholder=\"positive number\")\n",
    "            userId = gr.Textbox(visible = False, value=uId)\n",
    "            startBtn = gr.Button(\"Start\")\n",
    "            startBtn.click(fn=generateEval, inputs = [batchSize, userId], outputs=None)#, api_name=\"Start\")\n",
    "            # add Batchsize to datacollector\n",
    "            startBtn.click(fn=addBatchsize, inputs = batchSize, outputs=None)#, api_name=\"Start\")\n",
    "            \n",
    "        demo.launch()"
   ]
  },
  {
   "cell_type": "code",
   "execution_count": 9,
   "id": "e5ddad46",
   "metadata": {
    "pycharm": {
     "name": "#%%\n"
    }
   },
   "outputs": [],
   "source": [
    "# Example to show the datastructur of dataCollector:\n",
    "# {\n",
    "#     'UserId' : 01,\n",
    "#     'model' : 'modelname',\n",
    "#     'batchsize' : 2,\n",
    "#     'Imgs' : [\n",
    "#         {'ImgId': 1,\n",
    "#          'label': n0xxxxxxxx,\n",
    "#          'source': '/path1',\n",
    "#          'topTen': [0,1,2,3,4,5,6,7,8,9],\n",
    "#          'decesion': 'OOD'}\n",
    "#          ,\n",
    "#          {'ImgId': 2,\n",
    "#           'label': n0xxxxxxxx,\n",
    "#           'source': '/path2',\n",
    "#           'topTen': [0,1,2,3,4,5,6,7,8,9],\n",
    "#           'decesion': 'ID'}\n",
    "#     ]\n",
    "# }\n",
    "# \n",
    "# After a user decide a batch of images, we get all the informations of this time decision as a dict,\n",
    "# but this dict is not yet directly an object that we can save in our database. \n",
    "# So we need to firstly convert it to the form of expected datastructer of object, and then convert it to .json format."
   ]
  },
  {
   "cell_type": "code",
   "execution_count": 10,
   "id": "0a48abff",
   "metadata": {
    "pycharm": {
     "name": "#%%\n"
    },
    "scrolled": false
   },
   "outputs": [],
   "source": [
    "# generates a new userId and updates the emails dict\n",
    "def generateId(mail):\n",
    "    if (len(emails_ids) == 0):\n",
    "        newId = 1000\n",
    "    else:\n",
    "        maxId = 1000\n",
    "        for obj in emails_ids:\n",
    "            if obj['userId'] > maxId:\n",
    "                maxId = obj['userId']\n",
    "        newId = maxId + 1\n",
    "    dictIn = {\n",
    "        'email': mail,\n",
    "        'userId': newId\n",
    "    }\n",
    "    emails_ids.append(dictIn)\n",
    "    databasePath = 'emails_ids.json'\n",
    "    # write email and new Id into json file\n",
    "    with open(databasePath, 'w') as database:\n",
    "        json.dump(emails_ids, database, indent=4)\n",
    "    return newId\n",
    "        \n",
    "# checks if the participant already owns a userId\n",
    "# if not: a userId gets generated\n",
    "def checkMail(mail):\n",
    "    alreadyId = False\n",
    "    for obj in emails_ids:\n",
    "        if obj['email'] == mail:\n",
    "            uId = obj['userId']\n",
    "            with gr.Blocks() as demo:\n",
    "                gr.Markdown(f'''\n",
    "                You already have an userId. Keep it in mind: {uId}\n",
    "                ''')\n",
    "                gr.Markdown('''Please sign in again!''')\n",
    "                backToSignInBtn = gr.Button(\"Back to sign in\")\n",
    "                backToSignInBtn.click(fn=generateSignIn, inputs=None, outputs=None, api_name=\"Back to sign in\")\n",
    "                \n",
    "            demo.launch()\n",
    "            alreadyId = True\n",
    "            break\n",
    "            \n",
    "    if alreadyId == False:\n",
    "        newId = generateId(mail)\n",
    "        with gr.Blocks() as demo:\n",
    "            gr.Markdown(f'''\n",
    "            That´s your personal userId which is just generated for your sign-in: {newId}\n",
    "            ''')\n",
    "            gr.Markdown('''Please keep it in mind and sign in again!''')\n",
    "            backToSignInBtn = gr.Button(\"Back to sign in\")\n",
    "            backToSignInBtn.click(fn=generateSignIn, inputs=None, outputs=None, api_name=\"Back to sign in\")\n",
    "        \n",
    "        demo.launch()\n",
    "        \n",
    "# handles the sign-in-input\n",
    "# checks whether the potentially given email already has an userId or not\n",
    "def handleFirstIn(idOrMail):\n",
    "    try: \n",
    "        int(idOrMail)\n",
    "    except:\n",
    "        checkMail(idOrMail)\n",
    "    else: \n",
    "        #add User id to datacollector\n",
    "        addUserId(int(idOrMail))\n",
    "        askAmount(int(idOrMail)) \n",
    "\n",
    "# generates the sign-in page \n",
    "def generateSignIn():\n",
    "    with gr.Blocks() as demo:\n",
    "        idOrMail = gr.Textbox(label=\"Please enter your UserID or, in case you don´t have one yet, please enter your e-mail address:\", placeholder=\"UserID or e-mail\")\n",
    "        signInBtn = gr.Button(\"Sign in\")\n",
    "        signInBtn.click(fn=handleFirstIn, inputs=idOrMail, outputs=None, api_name=\"Sign in\")\n",
    "\n",
    "    demo.launch()\n"
   ]
  },
  {
   "cell_type": "code",
   "execution_count": 11,
   "id": "2a117a2b",
   "metadata": {
    "pycharm": {
     "name": "#%%\n"
    }
   },
   "outputs": [],
   "source": [
    "# load existing emails and Id´s from database\n",
    "with open('emails_ids.json') as file:\n",
    "    json_str = file.read()\n",
    "\n",
    "emails_ids = json.loads(json_str)\n",
    "\n",
    "# load existing data from database\n",
    "with open('data.json') as file:\n",
    "    json_str = file.read()\n",
    "\n",
    "data = json.loads(json_str)\n",
    "\n",
    "#load the Set of all images in database, so that we can decide if a new image already exists in database. \n",
    "imgSet = set()\n",
    "if len(data) > 0:\n",
    "    for obj in data:\n",
    "        imgSet.add(obj['source'])\n",
    "\n",
    "#initialize temporary data container: dataCollector and decesions\n",
    "dataCollector = dict()\n",
    "decesions = []"
   ]
  },
  {
   "cell_type": "code",
   "execution_count": 12,
   "id": "84efbcc5",
   "metadata": {
    "pycharm": {
     "name": "#%%\n"
    }
   },
   "outputs": [],
   "source": [
    "def endEval():\n",
    "    #add the new genarated data into database(here as dict)\n",
    "    updateData()\n",
    "\n",
    "    databasePath = 'data.json'\n",
    "    # write data into json file\n",
    "    with open(databasePath, 'w') as database:\n",
    "        json.dump(data, database, indent=4)\n",
    "\n",
    "    #empty the container\n",
    "    dataCollector = dict()\n",
    "    decesions = []\n",
    "    \n",
    "    sys.exit(0)"
   ]
  },
  {
   "cell_type": "code",
   "execution_count": 14,
   "id": "809e7f05",
   "metadata": {
    "pycharm": {
     "name": "#%%\n"
    }
   },
   "outputs": [
    {
     "ename": "KeyError",
     "evalue": "'imgs'",
     "output_type": "error",
     "traceback": [
      "\u001b[0;31m---------------------------------------------------------------------------\u001b[0m",
      "\u001b[0;31mKeyError\u001b[0m                                  Traceback (most recent call last)",
      "Cell \u001b[0;32mIn[14], line 2\u001b[0m\n\u001b[1;32m      1\u001b[0m \u001b[38;5;66;03m#add the new genarated data into database(here as dict)\u001b[39;00m\n\u001b[0;32m----> 2\u001b[0m \u001b[43mupdateData\u001b[49m\u001b[43m(\u001b[49m\u001b[43m)\u001b[49m\n\u001b[1;32m      4\u001b[0m databasePath \u001b[38;5;241m=\u001b[39m \u001b[38;5;124m'\u001b[39m\u001b[38;5;124mdata.json\u001b[39m\u001b[38;5;124m'\u001b[39m\n\u001b[1;32m      5\u001b[0m \u001b[38;5;66;03m# write data into json file\u001b[39;00m\n",
      "Cell \u001b[0;32mIn[4], line 78\u001b[0m, in \u001b[0;36mupdateData\u001b[0;34m()\u001b[0m\n\u001b[1;32m     77\u001b[0m \u001b[38;5;28;01mdef\u001b[39;00m \u001b[38;5;21mupdateData\u001b[39m():\n\u001b[0;32m---> 78\u001b[0m     \u001b[38;5;28;01mfor\u001b[39;00m img \u001b[38;5;129;01min\u001b[39;00m \u001b[43mdataCollector\u001b[49m\u001b[43m[\u001b[49m\u001b[38;5;124;43m'\u001b[39;49m\u001b[38;5;124;43mimgs\u001b[39;49m\u001b[38;5;124;43m'\u001b[39;49m\u001b[43m]\u001b[49m:\n\u001b[1;32m     79\u001b[0m         \u001b[38;5;28;01mif\u001b[39;00m img[\u001b[38;5;124m'\u001b[39m\u001b[38;5;124msource\u001b[39m\u001b[38;5;124m'\u001b[39m] \u001b[38;5;129;01mnot\u001b[39;00m \u001b[38;5;129;01min\u001b[39;00m imgSet:\n\u001b[1;32m     80\u001b[0m             obj \u001b[38;5;241m=\u001b[39m creatJsonObject(img)\n",
      "\u001b[0;31mKeyError\u001b[0m: 'imgs'"
     ]
    }
   ],
   "source": [
    "#add the new genarated data into database(here as dict)\n",
    "updateData()\n",
    "\n",
    "databasePath = 'data.json'\n",
    "# write data into json file\n",
    "with open(databasePath, 'w') as database:\n",
    "    json.dump(data, database, indent=4)\n",
    "\n",
    "#empty the container\n",
    "dataCollector = dict()\n",
    "decesions = []"
   ]
  },
  {
   "cell_type": "code",
   "execution_count": 22,
   "id": "89a3adca",
   "metadata": {
    "pycharm": {
     "name": "#%%\n"
    },
    "scrolled": false
   },
   "outputs": [
    {
     "name": "stdout",
     "output_type": "stream",
     "text": [
      "Running on local URL:  http://127.0.0.1:7865\n",
      "\n",
      "To create a public link, set `share=True` in `launch()`.\n"
     ]
    },
    {
     "data": {
      "text/html": [
       "<div><iframe src=\"http://127.0.0.1:7865/\" width=\"100%\" height=\"500\" allow=\"autoplay; camera; microphone; clipboard-read; clipboard-write;\" frameborder=\"0\" allowfullscreen></iframe></div>"
      ],
      "text/plain": [
       "<IPython.core.display.HTML object>"
      ]
     },
     "metadata": {},
     "output_type": "display_data"
    },
    {
     "data": {
      "text/plain": []
     },
     "execution_count": 22,
     "metadata": {},
     "output_type": "execute_result"
    }
   ],
   "source": [
    "\n",
    "data = loadDataFromModel(10)\n",
    "imgs = data[2]\n",
    "labels= data[3]\n",
    "ex = [[imgs[i], labels[i]] for i in range(len(imgs))]\n",
    "\n",
    "def createDataOutputForExample(data):\n",
    "    dic = dict()\n",
    "    images = data[2]\n",
    "    labels = data[3]\n",
    "    for i in range(len(images)):\n",
    "        dic[images[i]]= labels[i]\n",
    "    return dic;\n",
    "\n",
    "\n",
    "dic = createDataOutputForExample(data)\n",
    "\n",
    "def openLabel(key,dic=dic):\n",
    "    print(key)\n",
    "    return gr.Textbox(value=dic[key])\n",
    "            \n",
    "\n",
    "\n",
    "\n",
    "with gr.Blocks() as demo:\n",
    "    with gr.Row():\n",
    "        image = gr.Image().style(height=350)\n",
    "        with gr.Column():\n",
    "            gr.Markdown(\"Test\")\n",
    "            label = gr.Textbox()\n",
    "           \n",
    "    with gr.Row():\n",
    "        with gr.Column():\n",
    "            examples= gr.Examples(examples=imgs, inputs=image, outputs=openLabel)\n",
    "        \n",
    "        \n",
    "    with gr.Row():\n",
    "        gr.Button(\"OOD\")\n",
    "        gr.Button(\"IID\")\n",
    "        gr.Button(\"abstinent\")\n",
    "      \n",
    " \n",
    "            \n",
    "demo.launch()"
   ]
  },
  {
   "cell_type": "code",
   "execution_count": 37,
   "id": "6c1f99de",
   "metadata": {
    "pycharm": {
     "name": "#%%\n"
    }
   },
   "outputs": [
    {
     "name": "stdout",
     "output_type": "stream",
     "text": [
      "Running on local URL:  http://127.0.0.1:7871\n",
      "\n",
      "To create a public link, set `share=True` in `launch()`.\n"
     ]
    },
    {
     "data": {
      "text/html": [
       "<div><iframe src=\"http://127.0.0.1:7871/\" width=\"100%\" height=\"500\" allow=\"autoplay; camera; microphone; clipboard-read; clipboard-write;\" frameborder=\"0\" allowfullscreen></iframe></div>"
      ],
      "text/plain": [
       "<IPython.core.display.HTML object>"
      ]
     },
     "metadata": {},
     "output_type": "display_data"
    },
    {
     "data": {
      "text/plain": []
     },
     "execution_count": 37,
     "metadata": {},
     "output_type": "execute_result"
    },
    {
     "name": "stderr",
     "output_type": "stream",
     "text": [
      "Traceback (most recent call last):\n",
      "  File \"/Users/maxschnitt/miniconda3/envs/teamproject/lib/python3.11/site-packages/gradio/routes.py\", line 414, in run_predict\n",
      "    output = await app.get_blocks().process_api(\n",
      "             ^^^^^^^^^^^^^^^^^^^^^^^^^^^^^^^^^^^\n",
      "  File \"/Users/maxschnitt/miniconda3/envs/teamproject/lib/python3.11/site-packages/gradio/blocks.py\", line 1320, in process_api\n",
      "    result = await self.call_function(\n",
      "             ^^^^^^^^^^^^^^^^^^^^^^^^^\n",
      "  File \"/Users/maxschnitt/miniconda3/envs/teamproject/lib/python3.11/site-packages/gradio/blocks.py\", line 1048, in call_function\n",
      "    prediction = await anyio.to_thread.run_sync(\n",
      "                 ^^^^^^^^^^^^^^^^^^^^^^^^^^^^^^^\n",
      "  File \"/Users/maxschnitt/miniconda3/envs/teamproject/lib/python3.11/site-packages/anyio/to_thread.py\", line 31, in run_sync\n",
      "    return await get_asynclib().run_sync_in_worker_thread(\n",
      "           ^^^^^^^^^^^^^^^^^^^^^^^^^^^^^^^^^^^^^^^^^^^^^^^\n",
      "  File \"/Users/maxschnitt/miniconda3/envs/teamproject/lib/python3.11/site-packages/anyio/_backends/_asyncio.py\", line 937, in run_sync_in_worker_thread\n",
      "    return await future\n",
      "           ^^^^^^^^^^^^\n",
      "  File \"/Users/maxschnitt/miniconda3/envs/teamproject/lib/python3.11/site-packages/anyio/_backends/_asyncio.py\", line 867, in run\n",
      "    result = context.run(func, *args)\n",
      "             ^^^^^^^^^^^^^^^^^^^^^^^^\n",
      "  File \"/var/folders/jx/m3cxmskj415bp4_r5_ywn_l00000gn/T/ipykernel_66405/3381823955.py\", line 2, in predict\n",
      "    samples = feedModel(img)\n",
      "             ^^^^^^^^^^^^^^\n",
      "  File \"/Users/maxschnitt/Documents/OOD-detection-tool/Dataset.py\", line 131, in feedModel\n",
      "    image, label = sample['image'], sample['label']\n",
      "                   ~~~~~~^^^^^^^^^\n",
      "IndexError: only integers, slices (`:`), ellipsis (`...`), numpy.newaxis (`None`) and integer or boolean arrays are valid indices\n"
     ]
    }
   ],
   "source": [
    "def predict(img):\n",
    "    samples = feedModel(img) \n",
    "    topTenList = findLabels(samples, 10)\n",
    "    return topTenList\n",
    "\n",
    "demo = gr.Interface(fn=predict, \n",
    "                    inputs= gr.Image(), \n",
    "                    outputs=gr.Textbox(),\n",
    "                   examples=list(dic.keys()))\n",
    "demo.launch()"
   ]
  },
  {
   "cell_type": "code",
   "execution_count": 35,
   "id": "d860658e",
   "metadata": {},
   "outputs": [
    {
     "name": "stdout",
     "output_type": "stream",
     "text": [
      "[['Samoyed, Samoyede', 'brain coral', 'German short-haired pointer', 'great white shark, white shark, man-eater, man-eating shark, Carcharodon carcharias', 'china cabinet, china closet', 'redshank, Tringa totanus', 'plow, plough', 'isopod', 'mailbag, postbag', 'pillow'], ['paddle, boat paddle', 'canoe', 'amphibian, amphibious vehicle', 'snorkel', 'speedboat', 'trimaran', 'sandbar, sand bar', 'bobsled, bobsleigh, bob', 'catamaran', 'lakeside, lakeshore'], ['goose', 'ruffed grouse, partridge, Bonasa umbellus', 'water snake', 'marmoset', 'mushroom', 'partridge', 'peacock', 'bustard', 'coho, cohoe, coho salmon, blue jack, silver salmon, Oncorhynchus kisutch', 'white stork, Ciconia ciconia'], ['goose', 'drake', 'lakeside, lakeshore', 'albatross, mollymawk', 'red-breasted merganser, Mergus serrator', 'peacock', 'black swan, Cygnus atratus', 'American coot, marsh hen, mud hen, water hen, Fulica americana', 'bustard', 'ruffed grouse, partridge, Bonasa umbellus'], ['sunscreen, sunblock, sun blocker', 'Band Aid', 'mask', 'whistle', 'cellular telephone, cellular phone, cellphone, cell, mobile phone', 'lotion', 'drumstick', 'cowboy hat, ten-gallon hat', 'harmonica, mouth organ, harp, mouth harp', 'shower cap'], ['Samoyed, Samoyede', 'white wolf, Arctic wolf, Canis lupus tundrarum', 'Eskimo dog, husky', 'malamute, malemute, Alaskan malamute', 'Great Pyrenees', 'Arctic fox, white fox, Alopex lagopus', 'keeshond', 'Siberian husky', 'Norwegian elkhound, elkhound', 'Pomeranian'], ['goblet', 'red wine', 'wine bottle', 'bubble', 'corkscrew, bottle screw', 'paper towel', 'beer glass', 'water jug', 'vestment', 'plate'], ['thresher, thrasher, threshing machine', 'harvester, reaper', 'garbage truck, dustcart', 'trailer truck, tractor trailer, trucking rig, rig, articulated lorry, semi', 'freight car', 'hay', 'fountain', 'snowplow, snowplough', 'paddlewheel, paddle wheel', 'crane'], ['goose', 'kite', 'oystercatcher, oyster catcher', 'pelican', 'crane', 'drake', 'redshank, Tringa totanus', 'red-breasted merganser, Mergus serrator', 'red-backed sandpiper, dunlin, Erolia alpina', 'bustard'], ['paddle, boat paddle', 'canoe', 'lifeboat', 'catamaran', 'gondola', 'sandbar, sand bar', 'speedboat', 'drum, membranophone, tympan', 'drilling platform, offshore rig', 'scuba diver']]\n"
     ]
    }
   ],
   "source": [
    "print(data[0])"
   ]
  }
 ],
 "metadata": {
  "kernelspec": {
   "display_name": "Python 3 (ipykernel)",
   "language": "python",
   "name": "python3"
  },
  "language_info": {
   "codemirror_mode": {
    "name": "ipython",
    "version": 3
   },
   "file_extension": ".py",
   "mimetype": "text/x-python",
   "name": "python",
   "nbconvert_exporter": "python",
   "pygments_lexer": "ipython3",
   "version": "3.11.3"
  }
 },
 "nbformat": 4,
 "nbformat_minor": 5
}
