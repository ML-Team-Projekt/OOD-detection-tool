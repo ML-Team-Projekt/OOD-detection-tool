{
 "cells": [
  {
   "cell_type": "code",
   "execution_count": 71,
   "id": "1868a499",
   "metadata": {},
   "outputs": [],
   "source": [
    "import torch\n",
    "import torchvision\n",
    "from torch.utils.data import Dataset\n",
    "import torchvision.transforms.functional as fn\n",
    "import torchvision.transforms as T\n",
    "import matplotlib.pyplot as plt\n",
    "from utilities import createAnnotation\n",
    "from model_loader import get_new_model\n",
    "import pandas as pd\n",
    "from IPython.display import display\n",
    "from PIL import Image \n",
    "import random\n",
    "import numpy as np\n",
    "import tqdm as notebook_tqdm\n",
    "import gradio as gr\n",
    "from Dataset import *\n",
    "import json"
   ]
  },
  {
   "cell_type": "code",
   "execution_count": 104,
   "id": "76f0417e",
   "metadata": {},
   "outputs": [],
   "source": [
    "# returns just its input\n",
    "# needed for some outputs\n",
    "def self(item):\n",
    "    return item"
   ]
  },
  {
   "cell_type": "code",
   "execution_count": 105,
   "id": "9b6dd0e8",
   "metadata": {},
   "outputs": [],
   "source": [
    "emails = {'testemail': 1}\n",
    "userId = 1"
   ]
  },
  {
   "cell_type": "code",
   "execution_count": 106,
   "id": "a81e6546",
   "metadata": {},
   "outputs": [],
   "source": [
    "# returns the labels per image which have to be evaluated and the indices of the images\n",
    "def loadDataFromModel(batchSize):\n",
    "    batch, batch3dim, indexList = createRandomBatch(batchSize)\n",
    "    global modelName\n",
    "    modelName = \"convnext_tiny\"\n",
    "    model = get_new_model(modelName, not_original=True)\n",
    "    samples = feedModel(batch)\n",
    "    \n",
    "    labels = []\n",
    "    # just for test purpose\n",
    "    for i in range(0, batchSize):\n",
    "        labels.append([i])\n",
    "    \n",
    "  # !!!!!!! labels = (use function from issue #18)\n",
    "    return labels, indexList"
   ]
  },
  {
   "cell_type": "code",
   "execution_count": 107,
   "id": "c2ab8df9",
   "metadata": {},
   "outputs": [],
   "source": [
    "# generates the whole evaluation output\n",
    "def generateEval(batchSize, uId):\n",
    "    batchSize = int(batchSize)\n",
    "    labels, indexList = loadDataFromModel(batchSize)\n",
    "    addImg(indexList)\n",
    "    addModel(modelName)\n",
    "    \n",
    "    for i in range(0, batchSize):\n",
    "        displayEval(imageDataset.__getitem__(indexList[i])[0], labels[i], uId)"
   ]
  },
  {
   "cell_type": "code",
   "execution_count": 108,
   "id": "374fca47",
   "metadata": {},
   "outputs": [],
   "source": [
    "# user selected IID\n",
    "def selectIid():\n",
    "  # update json\n",
    "    addDecesion('IID')\n",
    "\n",
    "# user selected OOD    \n",
    "def selectOod():\n",
    "  # update json\n",
    "    addDecesion('OOD')\n",
    "\n",
    "# user selected abstinent\n",
    "def selectAbstinent():\n",
    "  # update json\n",
    "    addDecesion('Abstinent')\n",
    "\n",
    "# shows an image, the labels and three buttons\n",
    "def displayEval(imgPath, labels, uId):\n",
    "    with gr.Blocks() as demo:\n",
    "        gr.Markdown('''Please decide if the image is in 'independent identically distribution' (IID) or 'out of distribution' (OOD) related to the predicted labels of the model.\n",
    "        If your are not sure choose 'abstinent'. ''')\n",
    "        fn = self\n",
    "        inputs = gr.Image(imgPath)\n",
    "        outputs = None\n",
    "        gr.Markdown('''The top labels predicted by the model:''')\n",
    "        for i in range (0, len(labels)):\n",
    "            gr.Markdown(f'''{labels[i]}''')\n",
    "        with gr.Row():\n",
    "            iidBtn = gr.Button(\"IID\")\n",
    "            oodBtn = gr.Button(\"OOD\")\n",
    "            abstinentBtn = gr.Button(\"abstinent\")\n",
    "        userId = gr.Textbox(visible = False, value = uId)\n",
    "        iidBtn.click(fn=selectIid, inputs=None, outputs=None, api_name=\"IID\")\n",
    "        oodBtn.click(fn=selectOod, inputs=None, outputs=None, api_name=\"OOD\")\n",
    "        abstinentBtn.click(fn=selectAbstinent, inputs=None, outputs=None, api_name=\"abstinent\")\n",
    "    \n",
    "    demo.launch()"
   ]
  },
  {
   "cell_type": "code",
   "execution_count": 109,
   "id": "5a136385",
   "metadata": {},
   "outputs": [],
   "source": [
    "# asks for the amount of images the user want to evaluate\n",
    "def askAmount(uId):\n",
    "        with gr.Blocks() as demo:\n",
    "            batchSize = gr.Textbox(label=\"Please enter the amount of images you want to evaluate:\", placeholder=\"positive number\")\n",
    "\n",
    "            userId = gr.Textbox(visible = False, value=uId)\n",
    "            startBtn = gr.Button(\"Start\")\n",
    "            startBtn.click(fn=generateEval, inputs = [batchSize, userId], outputs=None, api_name=\"Start\")\n",
    "            # add Batchsize to datacollector\n",
    "            startBtn.click(fn=addBatchsize, inputs = batchSize, outputs=None, api_name=\"Start\")\n",
    "            \n",
    "        demo.launch()"
   ]
  },
  {
   "attachments": {},
   "cell_type": "markdown",
   "id": "40da3678",
   "metadata": {},
   "source": [
    "Example to show the datastructur of dataCollector:\n",
    "{\n",
    "    'UserId' : 01,\n",
    "    'model' : 'modelname',\n",
    "    'batchsize' : 4\n",
    "\n",
    "    'Imgs' : [\n",
    "        {'ImgId': 1,\n",
    "         'source': '/path1',\n",
    "         'topTen': [0,1,2,3,4,5,6,7,8,9],\n",
    "         'decesion': 'OOD'}\n",
    "         ,\n",
    "         {'ImgId': 2,\n",
    "         'source': '/path2',\n",
    "         'topTen': [0,1,2,3,4,5,6,7,8,9],\n",
    "         'decesion': 'ID'}\n",
    "\n",
    "    ]\n",
    "}\n",
    "\n",
    "Example of the object in json file:\n",
    "{\n",
    "    'ImgID': 0,\n",
    "    'source' : '/path',\n",
    "    'Usercall': [\n",
    "        {\n",
    "            'userId' : 1,\n",
    "            'model' : 'modelname1',\n",
    "            'topTen': [0,1,2,3,4,5,6,7,8,9],\n",
    "            'decesion': 'OOD'\n",
    "        },\n",
    "        {\n",
    "            'userId' : 2,\n",
    "            'model' : 'modelname2',\n",
    "            'topTen': [0,1,2,3,4,5,6,7,8,9],\n",
    "            'decesion': 'OOD'\n",
    "        }\n",
    "    ]\n",
    "}\n",
    "After a user decide a batch of images, we get all the informations of this time decision as a dict, but this dict is not yet directly an object that we can save in our database. So we need to firstly convert it to the form of expected datastructer of object, and then convert it to .json format. "
   ]
  },
  {
   "cell_type": "code",
   "execution_count": 110,
   "id": "a3e7ad22",
   "metadata": {},
   "outputs": [],
   "source": [
    "data = []\n",
    "dataCollector = dict()"
   ]
  },
  {
   "cell_type": "code",
   "execution_count": 133,
   "id": "032ff484",
   "metadata": {},
   "outputs": [],
   "source": [
    "\n",
    "#Here we configure the Datacollector, which contains all informations of once Usercall\n",
    "def addUserId(UserId):\n",
    "    dataCollector['UserId'] = UserId\n",
    "\n",
    "def addBatchsize(batchsize):\n",
    "    dataCollector['batchsize'] = int(batchsize)\n",
    "\n",
    "def addImg(imgIds):\n",
    "    assert dataCollector['batchsize'] == len(imgIds)\n",
    "    Samples = []\n",
    "    for i in range(dataCollector['batchsize']):\n",
    "        Samples.append({'ImgId': imgIds[i], 'topTen': []})\n",
    "    dataCollector['Imgs'] = Samples\n",
    "\n",
    "def addTopTen(topTen):\n",
    "    assert len(topTen) == len(dataCollector['Imgs'])\n",
    "    for i in range(len(dataCollector['Imgs'])):\n",
    "        dataCollector['Imgs'][i]['topTen'] = topTen[i]\n",
    "\n",
    "def addDecesion(decesion):\n",
    "    decesions = []\n",
    "    decesions.append(decesion)\n",
    "    if len(decesions) == dataCollector['batchsize']:\n",
    "        assert dataCollector['batchsize'] == len(dataCollector['Imgs'])\n",
    "        for i in range(len(dataCollector['Imgs'])):\n",
    "            dataCollector['Imgs'][i]['decesion'] = decesions[i]\n",
    "    \n",
    "\n",
    "def addSource(sourceList):\n",
    "    assert len(sourceList) == len(dataCollector['Imgs'])\n",
    "    for i in range(len(dataCollector['Imgs'])):\n",
    "        dataCollector['Imgs'][i]['source'] = sourceList[i] \n",
    "\n",
    "def addModel(model):\n",
    "    dataCollector['model'] = model\n",
    "\n",
    "#create an object for a Usercall, in case that we want to insert a new image into our database\n",
    "def creatJsonObject(img):\n",
    "    if 'topTen' in dataCollector.keys():\n",
    "        topTen = img['topTen']\n",
    "    else:\n",
    "        #default value\n",
    "        topTen = [0,1,2,3,4,5,6,7,8,9]\n",
    "    object = {\n",
    "                'ImgID' : img['ImgId'],\n",
    "                #'source' : img['source'],\n",
    "                'UserCall': [\n",
    "                    {\n",
    "                        'userId' : dataCollector['UserId'],\n",
    "                        'model' : dataCollector['model'],\n",
    "                        'decesion': img['decesion'],\n",
    "                        'topTen': topTen    \n",
    "                    }\n",
    "                ]\n",
    "            }\n",
    "    print(object)\n",
    "\n",
    "    return object\n",
    "\n",
    "#update the Object of the image, which already exists in database.\n",
    "def updateObject(img):\n",
    "    for obj in data:\n",
    "        if obj['ImgID'] == img['ImgId']:\n",
    "            call = {\n",
    "                'userId' : dataCollector['UserId'],\n",
    "                'model' : dataCollector['model'],\n",
    "                'decesion': img['decesion'],\n",
    "                'topTen': img['topTen']\n",
    "            }\n",
    "            obj['UserCall'].append(call)\n",
    "\n",
    "#update our database ,everytime a Usercall happens\n",
    "def updateData():\n",
    "    imgSet = set()\n",
    "    if len(data) > 0:\n",
    "        for obj in data:\n",
    "            imgSet.add(obj['ImgID'])\n",
    "    for img in dataCollector['Imgs']:\n",
    "        if img['ImgId'] not in imgSet:\n",
    "            obj = creatJsonObject(img)\n",
    "            data.append(obj)\n",
    "            imgSet.add(img['ImgId'])\n",
    "        else:\n",
    "            updateObject(img)\n",
    "            break\n"
   ]
  },
  {
   "cell_type": "code",
   "execution_count": null,
   "id": "0a48abff",
   "metadata": {
    "scrolled": false
   },
   "outputs": [
    {
     "name": "stdout",
     "output_type": "stream",
     "text": [
      "Running on local URL:  http://127.0.0.1:7907\n",
      "\n",
      "To create a public link, set `share=True` in `launch()`.\n"
     ]
    },
    {
     "data": {
      "text/html": [
       "<div><iframe src=\"http://127.0.0.1:7907/\" width=\"100%\" height=\"500\" allow=\"autoplay; camera; microphone; clipboard-read; clipboard-write;\" frameborder=\"0\" allowfullscreen></iframe></div>"
      ],
      "text/plain": [
       "<IPython.core.display.HTML object>"
      ]
     },
     "metadata": {},
     "output_type": "display_data"
    },
    {
     "name": "stderr",
     "output_type": "stream",
     "text": [
      "C:\\Users\\haowa\\AppData\\Local\\Packages\\PythonSoftwareFoundation.Python.3.10_qbz5n2kfra8p0\\LocalCache\\local-packages\\Python310\\site-packages\\gradio\\blocks.py:255: UserWarning: api_name Start already exists, using Start_1\n",
      "  warnings.warn(f\"api_name {api_name} already exists, using {api_name_}\")\n"
     ]
    },
    {
     "name": "stdout",
     "output_type": "stream",
     "text": [
      "Running on local URL:  http://127.0.0.1:7908\n",
      "\n",
      "To create a public link, set `share=True` in `launch()`.\n"
     ]
    },
    {
     "data": {
      "text/html": [
       "<div><iframe src=\"http://127.0.0.1:7908/\" width=\"100%\" height=\"500\" allow=\"autoplay; camera; microphone; clipboard-read; clipboard-write;\" frameborder=\"0\" allowfullscreen></iframe></div>"
      ],
      "text/plain": [
       "<IPython.core.display.HTML object>"
      ]
     },
     "metadata": {},
     "output_type": "display_data"
    },
    {
     "name": "stdout",
     "output_type": "stream",
     "text": [
      "\n",
      "Thanks for being a Gradio user! If you have questions or feedback, please join our Discord server and chat with us: https://discord.gg/feTf9x3ZSB\n",
      "Running on local URL:  http://127.0.0.1:7909\n",
      "\n",
      "To create a public link, set `share=True` in `launch()`.\n"
     ]
    },
    {
     "data": {
      "text/html": [
       "<div><iframe src=\"http://127.0.0.1:7909/\" width=\"100%\" height=\"500\" allow=\"autoplay; camera; microphone; clipboard-read; clipboard-write;\" frameborder=\"0\" allowfullscreen></iframe></div>"
      ],
      "text/plain": [
       "<IPython.core.display.HTML object>"
      ]
     },
     "metadata": {},
     "output_type": "display_data"
    },
    {
     "name": "stdout",
     "output_type": "stream",
     "text": [
      "Running on local URL:  http://127.0.0.1:7910\n",
      "\n",
      "To create a public link, set `share=True` in `launch()`.\n"
     ]
    },
    {
     "data": {
      "text/html": [
       "<div><iframe src=\"http://127.0.0.1:7910/\" width=\"100%\" height=\"500\" allow=\"autoplay; camera; microphone; clipboard-read; clipboard-write;\" frameborder=\"0\" allowfullscreen></iframe></div>"
      ],
      "text/plain": [
       "<IPython.core.display.HTML object>"
      ]
     },
     "metadata": {},
     "output_type": "display_data"
    }
   ],
   "source": [
    "# generates a new userId and updates the emails dict\n",
    "def generateId(mail):\n",
    "    global userId\n",
    "    userId += 1\n",
    "    global emails\n",
    "    emails.update({mail: userId})\n",
    "    return userId\n",
    "        \n",
    "# checks if the participant already owns a userId\n",
    "# if not: a userId gets generated\n",
    "def checkMail(mail):\n",
    "    alreadyId = False\n",
    "    for email, uId in emails.items():\n",
    "        if email == mail:\n",
    "            with gr.Blocks() as demo:\n",
    "                gr.Markdown(f'''\n",
    "                You already have an userId. Keep it in mind: {uId}\n",
    "                ''')\n",
    "                gr.Markdown('''Please sign in again!''')\n",
    "                backToSignInBtn = gr.Button(\"Back to sign in\")\n",
    "                backToSignInBtn.click(fn=generateSignIn, inputs=None, outputs=None, api_name=\"Back to sign in\")\n",
    "                \n",
    "            demo.launch()\n",
    "            alreadyId = True\n",
    "            break\n",
    "            \n",
    "    if alreadyId == False:\n",
    "        newId = generateId(mail)\n",
    "        with gr.Blocks() as demo:\n",
    "            gr.Markdown(f'''\n",
    "            That´s your personal userId which is just generated for your sign-in: {newId}\n",
    "            ''')\n",
    "            gr.Markdown('''Please keep it in mind and sign in again!''')\n",
    "            backToSignInBtn = gr.Button(\"Back to sign in\")\n",
    "            backToSignInBtn.click(fn=generateSignIn, inputs=None, outputs=None, api_name=\"Back to sign in\")\n",
    "        \n",
    "        demo.launch()\n",
    "        \n",
    "# handles the sign-in-input\n",
    "# checks whether the potentially given email already has an userId or not\n",
    "def handleFirstIn(idOrMail):\n",
    "    try: \n",
    "        int(idOrMail)\n",
    "    except:\n",
    "        checkMail(idOrMail)\n",
    "    else: \n",
    "        #add User id to datacollector\n",
    "        addUserId(int(idOrMail))\n",
    "        askAmount(idOrMail) \n",
    "\n",
    "# generates the sign-in page \n",
    "def generateSignIn():\n",
    "    with gr.Blocks() as demo:\n",
    "        idOrMail = gr.Textbox(label=\"Please enter your UserID or, in case you don´t have one yet, please enter your e-mail address:\", placeholder=\"UserID or e-mail\")\n",
    "        signInBtn = gr.Button(\"Sign in\")\n",
    "        signInBtn.click(fn=handleFirstIn, inputs=idOrMail, outputs=None, api_name=\"Sign in\")\n",
    "\n",
    "    demo.launch()\n",
    "\n",
    "\n",
    "    \n",
    "generateSignIn()\n"
   ]
  },
  {
   "cell_type": "code",
   "execution_count": 135,
   "id": "d11bfd36",
   "metadata": {},
   "outputs": [
    {
     "name": "stdout",
     "output_type": "stream",
     "text": [
      "{'UserId': 1, 'batchsize': 2, 'Imgs': [{'ImgId': 338, 'topTen': []}, {'ImgId': 526, 'topTen': []}], 'model': 'convnext_tiny'}\n",
      "{'ImgID': 338, 'UserCall': [{'userId': 1, 'model': 'convnext_tiny', 'topTen': [0, 1, 2, 3, 4, 5, 6, 7, 8, 9]}]}\n",
      "{'ImgID': 526, 'UserCall': [{'userId': 1, 'model': 'convnext_tiny', 'topTen': [0, 1, 2, 3, 4, 5, 6, 7, 8, 9]}]}\n",
      "[{'ImgID': 620, 'UserCall': [{'userId': 1, 'model': 'convnext_tiny', 'topTen': [0, 1, 2, 3, 4, 5, 6, 7, 8, 9]}]}, {'ImgID': 338, 'UserCall': [{'userId': 1, 'model': 'convnext_tiny', 'topTen': [0, 1, 2, 3, 4, 5, 6, 7, 8, 9]}]}, {'ImgID': 526, 'UserCall': [{'userId': 1, 'model': 'convnext_tiny', 'topTen': [0, 1, 2, 3, 4, 5, 6, 7, 8, 9]}]}]\n"
     ]
    }
   ],
   "source": [
    "\n",
    "\n",
    "print(dataCollector)\n",
    "updateData()\n",
    "print(data)"
   ]
  },
  {
   "cell_type": "code",
   "execution_count": 136,
   "id": "82f17c2d",
   "metadata": {},
   "outputs": [],
   "source": [
    "file_path = 'data.json'\n",
    "\n",
    "# write data into json file\n",
    "with open(file_path, 'w') as file:\n",
    "    json.dump(data, file, indent=4)"
   ]
  }
 ],
 "metadata": {
  "kernelspec": {
   "display_name": "Python 3 (ipykernel)",
   "language": "python",
   "name": "python3"
  },
  "language_info": {
   "codemirror_mode": {
    "name": "ipython",
    "version": 3
   },
   "file_extension": ".py",
   "mimetype": "text/x-python",
   "name": "python",
   "nbconvert_exporter": "python",
   "pygments_lexer": "ipython3",
   "version": "3.10.11"
  }
 },
 "nbformat": 4,
 "nbformat_minor": 5
}
