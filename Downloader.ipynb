{
 "cells": [
  {
   "cell_type": "code",
   "execution_count": 1,
   "id": "26afdec5",
   "metadata": {},
   "outputs": [],
   "source": [
    "from progress.bar import Bar\n",
    "import requests\n",
    "import os\n",
    "import sys\n",
    "import time"
   ]
  },
  {
   "cell_type": "code",
   "execution_count": 2,
   "id": "8dbfd2f4",
   "metadata": {},
   "outputs": [],
   "source": [
    "def createFolder(path):\n",
    "    if not os.path.isdir(path):\n",
    "        os.makedirs(path)\n",
    "        "
   ]
  },
  {
   "cell_type": "code",
   "execution_count": 3,
   "id": "19855654",
   "metadata": {},
   "outputs": [],
   "source": [
    "def downloadImages(urls, path):\n",
    "    createFolder(path)  # create the folder\n",
    "\n",
    "    for url in urls:\n",
    "        imageName = url.split(\"/\")[-1]\n",
    "        imagePath = os.path.join(path, imageName)\n",
    "\n",
    "        if not os.path.isfile(imagePath):  # ignore if already downloaded\n",
    "            response=requests.get(url,stream=True)\n",
    "\n",
    "            with open(imagePath,'wb') as outfile:\n",
    "                outfile.write(response.content)"
   ]
  },
  {
   "cell_type": "code",
   "execution_count": null,
   "id": "f52a5388",
   "metadata": {},
   "outputs": [],
   "source": []
  }
 ],
 "metadata": {
  "kernelspec": {
   "display_name": "Python 3 (ipykernel)",
   "language": "python",
   "name": "python3"
  },
  "language_info": {
   "codemirror_mode": {
    "name": "ipython",
    "version": 3
   },
   "file_extension": ".py",
   "mimetype": "text/x-python",
   "name": "python",
   "nbconvert_exporter": "python",
   "pygments_lexer": "ipython3",
   "version": "3.10.11"
  }
 },
 "nbformat": 4,
 "nbformat_minor": 5
}
