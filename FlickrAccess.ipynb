{
 "cells": [
  {
   "cell_type": "code",
   "execution_count": 1,
   "id": "ddc7ef9b",
   "metadata": {},
   "outputs": [],
   "source": [
    "from flickrapi import FlickrAPI\n",
    "\n",
    "KEY = '50c7d487720201a7e74b98f517058eec'\n",
    "SECRET = 'd45273e1b393ef1a'\n",
    "\n",
    "# limiting the sizes we are interested in\n",
    "SIZES = [\"url_o\", \"url_k\", \"url_h\", \"url_l\", \"url_c\"]\n"
   ]
  },
  {
   "cell_type": "code",
   "execution_count": 2,
   "id": "a914ffb4",
   "metadata": {},
   "outputs": [],
   "source": [
    "def getPhotos(imageTag):\n",
    "    extras = ','.join(SIZES)\n",
    "    flickr = FlickrAPI(KEY, SECRET)\n",
    "    photos = flickr.walk(text=imageTag,  # search by image title and image tags\n",
    "                            extras=extras,  # get the urls for each size we want for the download later\n",
    "                            privacy_filter=1,  # search only for public photos\n",
    "                            per_page=50,\n",
    "                            sort='relevance') \n",
    "    return photos"
   ]
  },
  {
   "cell_type": "code",
   "execution_count": 3,
   "id": "4040cd1e",
   "metadata": {},
   "outputs": [],
   "source": [
    "def getUrl(photo):\n",
    "    for i in range(len(SIZES)):  # makes sure we search the sizes in the order above\n",
    "        url = photo.get(SIZES[i])\n",
    "        if url:  # if url is None try with the next size\n",
    "            return url\n",
    "        "
   ]
  },
  {
   "cell_type": "code",
   "execution_count": 4,
   "id": "fd08f3a9",
   "metadata": {},
   "outputs": [],
   "source": [
    "# unites getPhotos and getUrls, returns list of URLs\n",
    "def getUrls(imageTag, max):\n",
    "    photos = getPhotos(image_tag)\n",
    "    counter=0\n",
    "    urls=[]\n",
    "\n",
    "    for photo in photos:\n",
    "        if counter < max:\n",
    "            url = geUrl(photo)  # get preffered size url\n",
    "            if url:\n",
    "                urls.append(url)\n",
    "                counter += 1\n",
    "        else:\n",
    "            break\n",
    "\n",
    "    return urls"
   ]
  },
  {
   "cell_type": "code",
   "execution_count": null,
   "id": "585dae32",
   "metadata": {},
   "outputs": [],
   "source": []
  }
 ],
 "metadata": {
  "kernelspec": {
   "display_name": "Python 3 (ipykernel)",
   "language": "python",
   "name": "python3"
  },
  "language_info": {
   "codemirror_mode": {
    "name": "ipython",
    "version": 3
   },
   "file_extension": ".py",
   "mimetype": "text/x-python",
   "name": "python",
   "nbconvert_exporter": "python",
   "pygments_lexer": "ipython3",
   "version": "3.10.11"
  }
 },
 "nbformat": 4,
 "nbformat_minor": 5
}
