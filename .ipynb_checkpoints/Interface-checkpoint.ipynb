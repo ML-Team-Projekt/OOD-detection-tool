{
 "cells": [
  {
   "cell_type": "code",
   "execution_count": 6,
   "id": "1868a499",
   "metadata": {},
   "outputs": [],
   "source": [
    "import torch\n",
    "import torchvision\n",
    "from torch.utils.data import Dataset\n",
    "import torchvision.transforms.functional as fn\n",
    "import torchvision.transforms as T\n",
    "import matplotlib.pyplot as plt\n",
    "from utilities import createAnnotation\n",
    "from model_loader import get_new_model\n",
    "import pandas as pd\n",
    "from IPython.display import display\n",
    "from PIL import Image \n",
    "import random\n",
    "import numpy as np\n",
    "import tqdm as notebook_tqdm\n",
    "import gradio as gr\n",
    "from Dataset import *"
   ]
  },
  {
   "cell_type": "code",
   "execution_count": 8,
   "id": "76f0417e",
   "metadata": {},
   "outputs": [],
   "source": [
    "# returns just its input\n",
    "# needed for some outputs\n",
    "def self(item):\n",
    "    return item"
   ]
  },
  {
   "cell_type": "code",
   "execution_count": 9,
   "id": "9b6dd0e8",
   "metadata": {},
   "outputs": [],
   "source": [
    "emails = {'testemail': 1}\n",
    "userId = 1"
   ]
  },
  {
   "cell_type": "code",
   "execution_count": 10,
   "id": "a81e6546",
   "metadata": {},
   "outputs": [],
   "source": [
    "# returns the labels per image which have to be evaluated and the indices of the images\n",
    "def loadDataFromModel(batchSize):\n",
    "    batch, batch3dim, indexList = createRandomBatch(batchSize)\n",
    "    model = get_new_model(\"convnext_tiny\", not_original=True)\n",
    "    samples = feedModel(batch)\n",
    "    \n",
    "    labels = []\n",
    "    # just for test purpose\n",
    "    for i in range(0, batchSize):\n",
    "        labels.append([i])\n",
    "    \n",
    "  # !!!!!!! labels = (use function from issue #18)\n",
    "    return labels, indexList"
   ]
  },
  {
   "cell_type": "code",
   "execution_count": 11,
   "id": "c2ab8df9",
   "metadata": {},
   "outputs": [],
   "source": [
    "# generates the whole evaluation output\n",
    "def generateEval(batchSize, uId):\n",
    "    batchSize = int(batchSize)\n",
    "    labels, indexList = loadDataFromModel(batchSize)\n",
    "    \n",
    "    for i in range(0, batchSize):\n",
    "        displayEval(imageDataset.__getitem__(indexList[i])[0], labels[i], uId)"
   ]
  },
  {
   "cell_type": "code",
   "execution_count": 12,
   "id": "374fca47",
   "metadata": {},
   "outputs": [],
   "source": [
    "# user selected IID\n",
    "def selectIid(uId):\n",
    "  # update json\n",
    "    return 0\n",
    "\n",
    "# user selected OOD    \n",
    "def selectOod(uId):\n",
    "  # update json\n",
    "    return 0\n",
    "\n",
    "# user selected abstinent\n",
    "def selectAbstinent(uId):\n",
    "  # update json\n",
    "    return 0\n",
    "\n",
    "# shows an image, the labels and three buttons\n",
    "def displayEval(imgPath, labels, uId):\n",
    "    with gr.Blocks() as demo:\n",
    "        gr.Markdown('''Please decide if the image is in 'independent identically distribution' (IID) or 'out of distribution' (OOD) related to the predicted labels of the model.\n",
    "        If your are not sure choose 'abstinent'. ''')\n",
    "        fn = self\n",
    "        inputs = gr.Image(imgPath)\n",
    "        outputs = None\n",
    "        gr.Markdown('''The top labels predicted by the model:''')\n",
    "        for i in range (0, len(labels)):\n",
    "            gr.Markdown(f'''{labels[i]}''')\n",
    "        with gr.Row():\n",
    "            iidBtn = gr.Button(\"IID\")\n",
    "            oodBtn = gr.Button(\"OOD\")\n",
    "            abstinentBtn = gr.Button(\"abstinent\")\n",
    "        userId = gr.Textbox(visible = False, value = uId)\n",
    "        iidBtn.click(fn=selectIid, inputs=userId, outputs=None, api_name=\"IID\")\n",
    "        oodBtn.click(fn=selectOod, inputs=userId, outputs=None, api_name=\"OOD\")\n",
    "        abstinentBtn.click(fn=selectAbstinent, inputs=userId, outputs=None, api_name=\"abstinent\")\n",
    "    \n",
    "    demo.launch()"
   ]
  },
  {
   "cell_type": "code",
   "execution_count": 13,
   "id": "5a136385",
   "metadata": {},
   "outputs": [],
   "source": [
    "# asks for the amount of images the user want to evaluate\n",
    "def askAmount(uId):\n",
    "        with gr.Blocks() as demo:\n",
    "            batchSize = gr.Textbox(label=\"Please enter the amount of images you want to evaluate:\", placeholder=\"positive number\")\n",
    "            userId = gr.Textbox(visible = False, value=uId)\n",
    "            startBtn = gr.Button(\"Start\")\n",
    "            startBtn.click(fn=generateEval, inputs = [batchSize, userId], outputs=None, api_name=\"Start\")\n",
    "        \n",
    "        demo.launch()"
   ]
  },
  {
   "cell_type": "code",
   "execution_count": 14,
   "id": "0a48abff",
   "metadata": {
    "scrolled": false
   },
   "outputs": [
    {
     "name": "stdout",
     "output_type": "stream",
     "text": [
      "Running on local URL:  http://127.0.0.1:7860\n",
      "\n",
      "To create a public link, set `share=True` in `launch()`.\n"
     ]
    },
    {
     "data": {
      "text/html": [
       "<div><iframe src=\"http://127.0.0.1:7860/\" width=\"100%\" height=\"500\" allow=\"autoplay; camera; microphone; clipboard-read; clipboard-write;\" frameborder=\"0\" allowfullscreen></iframe></div>"
      ],
      "text/plain": [
       "<IPython.core.display.HTML object>"
      ]
     },
     "metadata": {},
     "output_type": "display_data"
    }
   ],
   "source": [
    "# generates a new userId and updates the emails dict\n",
    "def generateId(mail):\n",
    "    global userId\n",
    "    userId += 1\n",
    "    global emails\n",
    "    emails.update({mail: userId})\n",
    "    return userId\n",
    "        \n",
    "# checks if the participant already owns a userId\n",
    "# if not: a userId gets generated\n",
    "def checkMail(mail):\n",
    "    alreadyId = False\n",
    "    for email, uId in emails.items():\n",
    "        if email == mail:\n",
    "            with gr.Blocks() as demo:\n",
    "                gr.Markdown(f'''\n",
    "                You already have an userId. Keep it in mind: {uId}\n",
    "                ''')\n",
    "                gr.Markdown('''Please sign in again!''')\n",
    "                backToSignInBtn = gr.Button(\"Back to sign in\")\n",
    "                backToSignInBtn.click(fn=generateSignIn, inputs=None, outputs=None, api_name=\"Back to sign in\")\n",
    "                \n",
    "            demo.launch()\n",
    "            alreadyId = True\n",
    "            break\n",
    "            \n",
    "    if alreadyId == False:\n",
    "        newId = generateId(mail)\n",
    "        with gr.Blocks() as demo:\n",
    "            gr.Markdown(f'''\n",
    "            That´s your personal userId which is just generated for your sign-in: {newId}\n",
    "            ''')\n",
    "            gr.Markdown('''Please keep it in mind and sign in again!''')\n",
    "            backToSignInBtn = gr.Button(\"Back to sign in\")\n",
    "            backToSignInBtn.click(fn=generateSignIn, inputs=None, outputs=None, api_name=\"Back to sign in\")\n",
    "        \n",
    "        demo.launch()\n",
    "        \n",
    "# handles the sign-in-input\n",
    "# checks whether the potentially given email already has an userId or not\n",
    "def handleFirstIn(idOrMail):\n",
    "    try: \n",
    "        int(idOrMail)\n",
    "    except:\n",
    "        checkMail(idOrMail)\n",
    "    else: \n",
    "        askAmount(idOrMail) \n",
    "\n",
    "# generates the sign-in page \n",
    "def generateSignIn():\n",
    "    with gr.Blocks() as demo:\n",
    "        idOrMail = gr.Textbox(label=\"Please enter your UserID or, in case you don´t have one yet, please enter your e-mail address:\", placeholder=\"UserID or e-mail\")\n",
    "        signInBtn = gr.Button(\"Sign in\")\n",
    "        signInBtn.click(fn=handleFirstIn, inputs=idOrMail, outputs=None, api_name=\"Sign in\")\n",
    "\n",
    "    demo.launch()\n",
    "    \n",
    "generateSignIn()"
   ]
  }
 ],
 "metadata": {
  "kernelspec": {
   "display_name": "Python 3 (ipykernel)",
   "language": "python",
   "name": "python3"
  },
  "language_info": {
   "codemirror_mode": {
    "name": "ipython",
    "version": 3
   },
   "file_extension": ".py",
   "mimetype": "text/x-python",
   "name": "python",
   "nbconvert_exporter": "python",
   "pygments_lexer": "ipython3",
   "version": "3.10.10"
  }
 },
 "nbformat": 4,
 "nbformat_minor": 5
}
